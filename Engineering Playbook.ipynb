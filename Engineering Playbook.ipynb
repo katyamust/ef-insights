{
 "cells": [
  {
   "cell_type": "code",
   "execution_count": null,
   "metadata": {},
   "outputs": [],
   "source": [
    "import json\n",
    "\n",
    "# Python Parsing JSON \n",
    "with open('ef-assessment-raw-data-03-01-21.json', encoding=\"cp866\") as json_file:\n",
    "    data = json.load(json_file)\n",
    "\n",
    "# Total number of surveys\n",
    "print(len(data))"
   ]
  },
  {
   "cell_type": "code",
   "execution_count": null,
   "metadata": {},
   "outputs": [],
   "source": [
    "#data[1]\n",
    "\n",
    "#print(data[6]['engagementName'], \" : \" ,data[6]['sections'][3]['overallSentiment'])\n",
    "\n",
    "#data[6]['sections'][3]['sectionName']=='Code Reviews'\n",
    "\n",
    "#for survey in data:\n",
    "#    #print(survey['engagementName'])\n",
    "#    try:\n",
    "#        print(survey['sections'][3]['overallSentiment'])\n",
    "#        print(\"--------\")\n",
    "#    except:\n",
    "#        print('Error:', survey['engagementName'])"
   ]
  },
  {
   "cell_type": "code",
   "execution_count": null,
   "metadata": {},
   "outputs": [],
   "source": [
    "surveyList = []\n",
    "\n",
    "for survey in data:\n",
    "    try:\n",
    "        print(\"------\")\n",
    "        print(survey['engagementName'])\n",
    "        for item in survey['sections']:\n",
    "            if(item['sectionName']=='Code Reviews'):\n",
    "                #print(item['overallSentiment'])\n",
    "                surveyList.append([\n",
    "                survey['engagementId'],\n",
    "                survey['engagementName'],\n",
    "                survey['surveyPossibleScore'],\n",
    "                survey['surveyActualScore'],\n",
    "                survey['dateTaken'],\n",
    "                item['overallSentiment'],\n",
    "                item['sectionPossibleScore'],\n",
    "                item['sectionActualScore']]\n",
    "                )\n",
    "    except:\n",
    "        print('Error:', survey['engagementName'])"
   ]
  },
  {
   "cell_type": "code",
   "execution_count": null,
   "metadata": {},
   "outputs": [],
   "source": [
    "# Surveys with Code Review Sections\n",
    "len(surveyList)"
   ]
  },
  {
   "cell_type": "code",
   "execution_count": null,
   "metadata": {
    "scrolled": true
   },
   "outputs": [],
   "source": [
    "import pandas as pd \n",
    "\n",
    "df = pd.DataFrame(surveyList)\n",
    "df.columns = ['engagementId','engagementName','surveyPossibleScore','surveyActualScore','dateTaken','overallSentiment','sectionPossibleScore','sectionActualScore']\n",
    "\n",
    "df"
   ]
  },
  {
   "cell_type": "code",
   "execution_count": null,
   "metadata": {},
   "outputs": [],
   "source": [
    "df.groupby(['engagementId','engagementName']).size().sort_values(ascending=False).reset_index(name='counts')"
   ]
  },
  {
   "cell_type": "code",
   "execution_count": null,
   "metadata": {},
   "outputs": [],
   "source": [
    "df.groupby(['engagementId','engagementName']).size().sort_values(ascending=False).reset_index(name='counts')"
   ]
  },
  {
   "cell_type": "code",
   "execution_count": null,
   "metadata": {},
   "outputs": [],
   "source": [
    "df[df['engagementId']==338311]['overallSentiment']"
   ]
  },
  {
   "cell_type": "code",
   "execution_count": null,
   "metadata": {},
   "outputs": [],
   "source": [
    "df[df['engagementId']==338311]['overallSentiment'][19]"
   ]
  },
  {
   "cell_type": "code",
   "execution_count": null,
   "metadata": {},
   "outputs": [],
   "source": [
    "df[df['engagementId']==338311]['overallSentiment'][26]"
   ]
  },
  {
   "cell_type": "code",
   "execution_count": null,
   "metadata": {},
   "outputs": [],
   "source": [
    "df[df['engagementId']==338311]['overallSentiment'][65]"
   ]
  },
  {
   "cell_type": "code",
   "execution_count": null,
   "metadata": {},
   "outputs": [],
   "source": [
    "df['overallSentiment'].count()"
   ]
  },
  {
   "cell_type": "code",
   "execution_count": null,
   "metadata": {},
   "outputs": [],
   "source": [
    "df['surveyPossibleScore'].mean()"
   ]
  },
  {
   "cell_type": "code",
   "execution_count": null,
   "metadata": {},
   "outputs": [],
   "source": [
    "df['surveyActualScore'].mean()"
   ]
  },
  {
   "cell_type": "code",
   "execution_count": null,
   "metadata": {},
   "outputs": [],
   "source": [
    "df['sectionPossibleScore'].mean()"
   ]
  },
  {
   "cell_type": "code",
   "execution_count": null,
   "metadata": {},
   "outputs": [],
   "source": [
    "df['sectionActualScore'].mean()"
   ]
  },
  {
   "cell_type": "code",
   "execution_count": null,
   "metadata": {},
   "outputs": [],
   "source": [
    "df['overallSentiment']"
   ]
  },
  {
   "cell_type": "code",
   "execution_count": null,
   "metadata": {},
   "outputs": [],
   "source": [
    "df['overallSentiment'].str.split(expand=True).stack().value_counts().head(50)"
   ]
  },
  {
   "cell_type": "code",
   "execution_count": null,
   "metadata": {},
   "outputs": [],
   "source": [
    "df['overallSentiment'].isnull().sum()"
   ]
  },
  {
   "cell_type": "code",
   "execution_count": null,
   "metadata": {},
   "outputs": [],
   "source": [
    "for survey in data:\n",
    "    try:\n",
    "        print(\"------\")\n",
    "        print(survey['engagementName'])\n",
    "        for item in survey['sections']:\n",
    "            if(item['sectionName']=='Code Reviews'):\n",
    "                print(item['overallSentiment'])\n",
    "    except:\n",
    "        print('Error:', survey['engagementName'])"
   ]
  },
  {
   "cell_type": "code",
   "execution_count": null,
   "metadata": {},
   "outputs": [],
   "source": []
  }
 ],
 "metadata": {
  "kernelspec": {
   "display_name": "Python 3",
   "language": "python",
   "name": "python3"
  },
  "language_info": {
   "codemirror_mode": {
    "name": "ipython",
    "version": 3
   },
   "file_extension": ".py",
   "mimetype": "text/x-python",
   "name": "python",
   "nbconvert_exporter": "python",
   "pygments_lexer": "ipython3",
   "version": "3.8.7"
  }
 },
 "nbformat": 4,
 "nbformat_minor": 4
}
